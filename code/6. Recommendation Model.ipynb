{
 "cells": [
  {
   "cell_type": "code",
   "execution_count": 1,
   "metadata": {},
   "outputs": [
    {
     "name": "stderr",
     "output_type": "stream",
     "text": [
      "C:\\Users\\Welcome\\AppData\\Local\\Temp\\ipykernel_11956\\3894926705.py:44: UserWarning: pandas only supports SQLAlchemy connectable (engine/connection) or database string URI or sqlite3 DBAPI2 connection. Other DBAPI2 objects are not tested. Please consider using SQLAlchemy.\n",
      "  movies_df= pd.read_sql_query(query, conn)\n"
     ]
    },
    {
     "data": {
      "text/html": [
       "<div>\n",
       "<style scoped>\n",
       "    .dataframe tbody tr th:only-of-type {\n",
       "        vertical-align: middle;\n",
       "    }\n",
       "\n",
       "    .dataframe tbody tr th {\n",
       "        vertical-align: top;\n",
       "    }\n",
       "\n",
       "    .dataframe thead th {\n",
       "        text-align: right;\n",
       "    }\n",
       "</style>\n",
       "<table border=\"1\" class=\"dataframe\">\n",
       "  <thead>\n",
       "    <tr style=\"text-align: right;\">\n",
       "      <th></th>\n",
       "      <th>Films_ID</th>\n",
       "      <th>Title</th>\n",
       "      <th>Genres</th>\n",
       "      <th>Stars</th>\n",
       "      <th>Plot_Summary</th>\n",
       "    </tr>\n",
       "  </thead>\n",
       "  <tbody>\n",
       "    <tr>\n",
       "      <th>0</th>\n",
       "      <td>1</td>\n",
       "      <td>Phineas and Ferb the Movie: Candace Against th...</td>\n",
       "      <td>Adventure, Animation, Comedy</td>\n",
       "      <td>Ashley Tisdale, Dee Bradley Baker, Vincent Mar...</td>\n",
       "      <td>The famed stepbrother inventors know what they...</td>\n",
       "    </tr>\n",
       "    <tr>\n",
       "      <th>1</th>\n",
       "      <td>2</td>\n",
       "      <td>Toby Goes to Camp</td>\n",
       "      <td>Family</td>\n",
       "      <td>Adan Allende, Ben F. Campbell, Laura Bilgeri</td>\n",
       "      <td>One part animal adventure, one part human musi...</td>\n",
       "    </tr>\n",
       "    <tr>\n",
       "      <th>2</th>\n",
       "      <td>3</td>\n",
       "      <td>Puff: Wonders of the Reef</td>\n",
       "      <td>Documentary, Family</td>\n",
       "      <td>Rose Byrne</td>\n",
       "      <td>A baby pufferfish travels through a wondrous m...</td>\n",
       "    </tr>\n",
       "    <tr>\n",
       "      <th>3</th>\n",
       "      <td>4</td>\n",
       "      <td>Hockney</td>\n",
       "      <td>Documentary</td>\n",
       "      <td>Arthur Lambert, Colin Self, David Hockney</td>\n",
       "      <td>The film looks back at Hockney's formative yea...</td>\n",
       "    </tr>\n",
       "    <tr>\n",
       "      <th>4</th>\n",
       "      <td>5</td>\n",
       "      <td>Andrew Santino: Cheeseburger</td>\n",
       "      <td>Comedy, Documentary</td>\n",
       "      <td>Unknown</td>\n",
       "      <td>No topic is safe in this unfiltered stand-up s...</td>\n",
       "    </tr>\n",
       "  </tbody>\n",
       "</table>\n",
       "</div>"
      ],
      "text/plain": [
       "   Films_ID                                              Title  \\\n",
       "0         1  Phineas and Ferb the Movie: Candace Against th...   \n",
       "1         2                                  Toby Goes to Camp   \n",
       "2         3                          Puff: Wonders of the Reef   \n",
       "3         4                                            Hockney   \n",
       "4         5                       Andrew Santino: Cheeseburger   \n",
       "\n",
       "                         Genres  \\\n",
       "0  Adventure, Animation, Comedy   \n",
       "1                        Family   \n",
       "2           Documentary, Family   \n",
       "3                   Documentary   \n",
       "4           Comedy, Documentary   \n",
       "\n",
       "                                               Stars  \\\n",
       "0  Ashley Tisdale, Dee Bradley Baker, Vincent Mar...   \n",
       "1       Adan Allende, Ben F. Campbell, Laura Bilgeri   \n",
       "2                                         Rose Byrne   \n",
       "3          Arthur Lambert, Colin Self, David Hockney   \n",
       "4                                            Unknown   \n",
       "\n",
       "                                        Plot_Summary  \n",
       "0  The famed stepbrother inventors know what they...  \n",
       "1  One part animal adventure, one part human musi...  \n",
       "2  A baby pufferfish travels through a wondrous m...  \n",
       "3  The film looks back at Hockney's formative yea...  \n",
       "4  No topic is safe in this unfiltered stand-up s...  "
      ]
     },
     "execution_count": 1,
     "metadata": {},
     "output_type": "execute_result"
    }
   ],
   "source": [
    "import pyodbc\n",
    "import pandas as pd\n",
    "\n",
    "server = 'DESKTOP-QT7SBR5'  \n",
    "database = 'imdb'  \n",
    "username = 'sa'  \n",
    "password = '12345' \n",
    "\n",
    "conn = pyodbc.connect(\n",
    "    f'DRIVER={{SQL Server}};'\n",
    "    f'SERVER={server};'\n",
    "    f'DATABASE={database};'\n",
    "    f'UID={username};'\n",
    "    f'PWD={password}'\n",
    ")\n",
    "query = \"\"\"\n",
    "select f.Films_ID, \n",
    "       f.Title, \n",
    "\n",
    "       -- Loại bỏ trùng lặp cho Genres\n",
    "       stuff((\n",
    "           select distinct ', ' + g.Genres\n",
    "           from FilmsGenres fg\n",
    "           join Genres g on fg.Genre_ID = g.Genre_ID\n",
    "           where fg.Films_ID = f.Films_ID\n",
    "           for xml path(''), type).value('.', 'nvarchar(max)'), 1, 2, '') as Genres,\n",
    "       \n",
    "       -- Loại bỏ trùng lặp cho Stars\n",
    "       stuff((\n",
    "           select distinct ', ' + s.Stars\n",
    "           from FilmsStars fs\n",
    "           join Stars s on fs.Star_ID = s.Star_ID\n",
    "           where fs.Films_ID = f.Films_ID\n",
    "           for xml path(''), type).value('.', 'nvarchar(max)'), 1, 2, '') as Stars,\n",
    "\n",
    "\t\t f.Plot_Summary\n",
    "\n",
    "from Films f\n",
    "group by f.Films_ID, f.Title, f.Plot_Summary\n",
    "order by f.Films_ID asc;\n",
    "\n",
    "\"\"\"\n",
    "\n",
    "movies_df= pd.read_sql_query(query, conn)\n",
    "conn.close()\n",
    "\n",
    "movies_df.head()"
   ]
  },
  {
   "cell_type": "code",
   "execution_count": 2,
   "metadata": {},
   "outputs": [
    {
     "data": {
      "text/plain": [
       "0        Phineas and Ferb the Movie: Candace Against th...\n",
       "1        Toby Goes to Camp Family Adan Allende, Ben F. ...\n",
       "2        Puff: Wonders of the Reef Documentary, Family ...\n",
       "3        Hockney Documentary Arthur Lambert, Colin Self...\n",
       "4        Andrew Santino: Cheeseburger Comedy, Documenta...\n",
       "                               ...                        \n",
       "10214    The SML YTP Movie 2: Dimension Trouble Action ...\n",
       "10215    Food Choices Documentary Joe Cross, Pam Popper...\n",
       "10216    20 Days in Mariupol Documentary, War Evgeniy M...\n",
       "10217    I See You Comedy, Drama, Romance Alessandra De...\n",
       "10218    Fireball: Visitors from Darker Worlds Document...\n",
       "Name: tfidf_features, Length: 10219, dtype: object"
      ]
     },
     "execution_count": 2,
     "metadata": {},
     "output_type": "execute_result"
    }
   ],
   "source": [
    "movies_df['Title'] = movies_df['Title'].fillna('')\n",
    "movies_df['Genres'] = movies_df['Genres'].fillna('')\n",
    "movies_df['Stars'] = movies_df['Stars'].fillna('')\n",
    "\n",
    "movies_df['tfidf_features'] = (\n",
    "    movies_df['Title'] + ' ' +\n",
    "    movies_df['Genres'] + ' ' +\n",
    "    movies_df['Stars'] \n",
    ")\n",
    "\n",
    "movies_df['tfidf_features']"
   ]
  },
  {
   "cell_type": "code",
   "execution_count": 3,
   "metadata": {},
   "outputs": [
    {
     "name": "stdout",
     "output_type": "stream",
     "text": [
      "0\n"
     ]
    }
   ],
   "source": [
    "print(movies_df['tfidf_features'].isna().sum())\n"
   ]
  },
  {
   "cell_type": "code",
   "execution_count": 4,
   "metadata": {},
   "outputs": [],
   "source": [
    "from sklearn.feature_extraction.text import TfidfVectorizer\n",
    "import numpy as np\n",
    "from sklearn.metrics.pairwise import cosine_similarity\n",
    "\n",
    "# Vector hóa bằng TF-IDF (Title, Genres, Stars, Director)\n",
    "tfidf_vectorizer = TfidfVectorizer(stop_words='english', max_features=5000)\n",
    "tfidf_matrix = tfidf_vectorizer.fit_transform(movies_df['tfidf_features'])"
   ]
  },
  {
   "cell_type": "code",
   "execution_count": 5,
   "metadata": {},
   "outputs": [
    {
     "data": {
      "application/vnd.jupyter.widget-view+json": {
       "model_id": "541254645f2245c89875ccd570b488c7",
       "version_major": 2,
       "version_minor": 0
      },
      "text/plain": [
       "Batches:   0%|          | 0/320 [00:00<?, ?it/s]"
      ]
     },
     "metadata": {},
     "output_type": "display_data"
    }
   ],
   "source": [
    "from sentence_transformers import SentenceTransformer\n",
    "\n",
    "bert_model = SentenceTransformer('paraphrase-MiniLM-L12-v2')\n",
    "\n",
    "# Encode các Plot_Summary\n",
    "plot_embeddings = bert_model.encode(movies_df['Plot_Summary'].tolist(), batch_size=32, show_progress_bar=True)\n"
   ]
  },
  {
   "cell_type": "code",
   "execution_count": 6,
   "metadata": {},
   "outputs": [],
   "source": [
    "# Kết hợp TF-IDF và BERT embeddings thành một ma trận đặc trưng chung để làm cơ sở cho việc tính toán độ tương đồng\n",
    "tfidf_weight = 0.5\n",
    "bert_weight = 0.5\n",
    "combined_features = np.hstack([tfidf_matrix.toarray() * tfidf_weight, plot_embeddings * bert_weight])"
   ]
  },
  {
   "cell_type": "code",
   "execution_count": 32,
   "metadata": {},
   "outputs": [],
   "source": [
    "def multi_condition_recommendation(query_dict, movies_data, tfidf_vectorizer, bert_model, combined_features, top_n=5):\n",
    "    \"\"\"\n",
    "    Gợi ý phim dựa trên một hoặc nhiều điều kiện\n",
    "\n",
    "    Parameters:\n",
    "        query_dict (dict): Dictionary chứa điều kiện query, e.g., {\"Genres\": \"Action\", \"Stars\": \"Tom Hanks\"}.\n",
    "        movies_data (DataFrame): Tập dữ liệu phim.\n",
    "        tfidf_vectorizer (TfidfVectorizer): TF-IDF vectorizer cho các trường.\n",
    "        bert_model (SentenceTransformer): Mô hình BERT cho Plot_Summary.\n",
    "        combined_features (ndarray): Ma trận đặc trưng kết hợp TF-IDF và BERT.\n",
    "        top_n (int): Số phim gợi ý.\n",
    "\n",
    "    Returns:\n",
    "        list: Danh sách các phim được gợi ý cùng điểm tương đồng.\n",
    "    \"\"\"\n",
    "    valid_keys = ['Title', 'Genres', 'Stars', 'Plot_Summary']  # Danh sách các key hợp lệ\n",
    "    total_similarity = np.zeros(combined_features.shape[0])\n",
    "    num_conditions = 0  # Số điều kiện hợp lệ đã được xử lý\n",
    "\n",
    "    # Tính toán độ tương đồng cho từng điều kiện\n",
    "    for query_type, query_input in query_dict.items():\n",
    "        # Chuẩn hóa key: kiểm tra key hợp lệ\n",
    "        query_type_normalized = query_type.strip().title().replace(\" \", \"_\")\n",
    "        if query_type_normalized not in valid_keys:\n",
    "            print(f\"Invalid query type: {query_type}. Skipping...\")\n",
    "            continue\n",
    "\n",
    "        if query_type_normalized == 'Genres':\n",
    "            # Xử lý thể loại nhiều thể loại (Ví dụ: \"Drama, Music\")\n",
    "            genres_list = query_input.split(',')  # Tách các thể loại\n",
    "            genres_input = \" \".join([genre.strip() for genre in genres_list])  # Chuỗi thể loại đã được tách\n",
    "            query_vector_tfidf = tfidf_vectorizer.transform([genres_input])\n",
    "            query_vector_combined = np.hstack([query_vector_tfidf.toarray(), np.zeros((1, bert_model.encode([\"\"]).shape[1]))])\n",
    "\n",
    "        # Tính toán TF-IDF hoặc BERT embedding dựa trên key hợp lệ\n",
    "        elif query_type_normalized in ['Title', 'Stars']:\n",
    "            query_vector_tfidf = tfidf_vectorizer.transform([query_input])\n",
    "            query_vector_combined = np.hstack([query_vector_tfidf.toarray(), np.zeros((1, plot_embeddings.shape[1]))])\n",
    "            \n",
    "        elif query_type_normalized == 'Plot_Summary':\n",
    "            query_vector_bert = bert_model.encode([query_input])\n",
    "            query_vector_combined = np.hstack([np.zeros((1, tfidf_matrix.shape[1])), query_vector_bert])\n",
    "\n",
    "        # Tính độ tương đồng và cộng điểm vào tổng\n",
    "        cosine_sim = cosine_similarity(query_vector_combined, combined_features).flatten()\n",
    "        total_similarity += cosine_sim\n",
    "        num_conditions += 1\n",
    "\n",
    "    # Nếu có ít nhất một điều kiện, chuẩn hóa điểm tổng theo số điều kiện\n",
    "    if num_conditions > 0:\n",
    "        total_similarity /= num_conditions\n",
    "\n",
    "    # Lấy các phim tương tự nhất\n",
    "    similar_indices = np.argsort(total_similarity)[-top_n - 1:-1][::-1]\n",
    "    recommendations = [(movies_data.iloc[i]['Title'], total_similarity[i]) for i in similar_indices]\n",
    "    return recommendations\n"
   ]
  },
  {
   "cell_type": "markdown",
   "metadata": {},
   "source": [
    "# Kết quả"
   ]
  },
  {
   "cell_type": "code",
   "execution_count": 33,
   "metadata": {},
   "outputs": [
    {
     "name": "stdout",
     "output_type": "stream",
     "text": [
      "Recommended movies based on multiple conditions:\n",
      "Code Duello: From the Tithebanner Saga: 0.21\n",
      "Elysium: 0.20\n",
      "Alien: Romulus: 0.20\n",
      "Planet of the Astronauts: 0.20\n",
      "Living Universe: 0.20\n"
     ]
    }
   ],
   "source": [
    "query_dict = {\n",
    "    \"Genres\": \"Action\",\n",
    "    \"Stars\": \"Tom Hanks\",\n",
    "    \"Plot_Summary\": \"A thrilling story of survival in space.\"\n",
    "}\n",
    "\n",
    "recommendations = multi_condition_recommendation(\n",
    "    query_dict=query_dict,\n",
    "    movies_data=movies_df,\n",
    "    tfidf_vectorizer=tfidf_vectorizer,\n",
    "    bert_model=bert_model,\n",
    "    combined_features=combined_features,\n",
    "    top_n=5\n",
    ")\n",
    "\n",
    "print(\"Recommended movies based on multiple conditions:\")\n",
    "for title, score in recommendations:\n",
    "    print(f\"{title}: {score:.2f}\")\n"
   ]
  },
  {
   "cell_type": "code",
   "execution_count": 34,
   "metadata": {},
   "outputs": [
    {
     "name": "stdout",
     "output_type": "stream",
     "text": [
      "Recommended movies based on multiple conditions:\n",
      "The Adam Project: 0.08\n",
      "Adagium: 0.08\n",
      "Free Guy: 0.08\n",
      "Once Upon a Deadpool: 0.08\n",
      "The Croods: 0.08\n"
     ]
    }
   ],
   "source": [
    "query_dict = {\n",
    "    \"Genres\": \"Action, Comedy\",\n",
    "    \"Stars\": \"Ryan Reynolds\",\n",
    "    }\n",
    "\n",
    "recommendations = multi_condition_recommendation(\n",
    "    query_dict=query_dict,\n",
    "    movies_data=movies_df,\n",
    "    tfidf_vectorizer=tfidf_vectorizer,\n",
    "    bert_model=bert_model,\n",
    "    combined_features=combined_features,\n",
    "    top_n=5\n",
    ")\n",
    "\n",
    "print(\"Recommended movies based on multiple conditions:\")\n",
    "for title, score in recommendations:\n",
    "    print(f\"{title}: {score:.2f}\")\n"
   ]
  },
  {
   "cell_type": "code",
   "execution_count": 36,
   "metadata": {},
   "outputs": [
    {
     "name": "stdout",
     "output_type": "stream",
     "text": [
      "Recommended movies based on conditions:\n",
      "Alien: Romulus: 0.60\n",
      "Planet of the Astronauts: 0.59\n",
      "Living Universe: 0.59\n",
      "Elysium: 0.57\n",
      "Titina: 0.55\n"
     ]
    }
   ],
   "source": [
    "# Tạo query với nhiều điều kiện\n",
    "query_dict = {\n",
    "   \"Plot_Summary\": \"A thrilling story of survival in space.\"\n",
    "}\n",
    "\n",
    "\n",
    "# Gợi ý phim dựa trên các điều kiện\n",
    "recommendations = multi_condition_recommendation(\n",
    "    query_dict=query_dict,\n",
    "    movies_data=movies_df,\n",
    "    tfidf_vectorizer=tfidf_vectorizer,\n",
    "    bert_model=bert_model,\n",
    "    combined_features=combined_features,\n",
    "    top_n=5,\n",
    ")\n",
    "\n",
    "# Hiển thị kết quả\n",
    "print(\"Recommended movies based on conditions:\")\n",
    "for title, score in recommendations:\n",
    "    print(f\"{title}: {score:.2f}\")\n"
   ]
  },
  {
   "cell_type": "code",
   "execution_count": 35,
   "metadata": {},
   "outputs": [
    {
     "name": "stdout",
     "output_type": "stream",
     "text": [
      "Recommended movies based on conditions:\n",
      "Commitment to Life: 0.15\n",
      "Asteroid City: 0.14\n",
      "California Typewriter: 0.13\n",
      "Greyhound: 0.13\n",
      "Everything Is Copy: 0.13\n"
     ]
    }
   ],
   "source": [
    "# Tạo query với nhiều điều kiện\n",
    "query_dict = {\n",
    "   \"Stars\": \"Tom Hanks\"\n",
    "}\n",
    "\n",
    "\n",
    "# Gợi ý phim dựa trên các điều kiện\n",
    "recommendations = multi_condition_recommendation(\n",
    "    query_dict=query_dict,\n",
    "    movies_data=movies_df,\n",
    "    tfidf_vectorizer=tfidf_vectorizer,\n",
    "    bert_model=bert_model,\n",
    "    combined_features=combined_features,\n",
    "    top_n=5,\n",
    ")\n",
    "\n",
    "# Hiển thị kết quả\n",
    "print(\"Recommended movies based on conditions:\")\n",
    "for title, score in recommendations:\n",
    "    print(f\"{title}: {score:.2f}\")\n"
   ]
  },
  {
   "cell_type": "code",
   "execution_count": 37,
   "metadata": {},
   "outputs": [
    {
     "name": "stdout",
     "output_type": "stream",
     "text": [
      "Recommended movies based on conditions:\n",
      "The War Around Us: 0.22\n",
      "Signs of War: 0.20\n",
      "Hondros: 0.18\n",
      "The November War: 0.18\n",
      "The Volunteers: 0.17\n"
     ]
    }
   ],
   "source": [
    "# Tạo query với nhiều điều kiện\n",
    "query_dict = {\n",
    "   \"Genres\": \"Drama, War\"\n",
    "}\n",
    "\n",
    "\n",
    "# Gợi ý phim dựa trên các điều kiện\n",
    "recommendations = multi_condition_recommendation(\n",
    "    query_dict=query_dict,\n",
    "    movies_data=movies_df,\n",
    "    tfidf_vectorizer=tfidf_vectorizer,\n",
    "    bert_model=bert_model,\n",
    "    combined_features=combined_features,\n",
    "    top_n=5,\n",
    ")\n",
    "\n",
    "# Hiển thị kết quả\n",
    "print(\"Recommended movies based on conditions:\")\n",
    "for title, score in recommendations:\n",
    "    print(f\"{title}: {score:.2f}\")\n"
   ]
  },
  {
   "cell_type": "code",
   "execution_count": 31,
   "metadata": {},
   "outputs": [],
   "source": [
    "import pickle\n",
    "\n",
    "# Lưu mô hình TF-IDF\n",
    "with open('tfidf_vectorizer.pkl', 'wb') as f:\n",
    "    pickle.dump(tfidf_vectorizer, f)\n",
    "\n",
    "# Lưu mô hình BERT\n",
    "with open('bert_model.pkl', 'wb') as f:\n",
    "    pickle.dump(bert_model, f)\n",
    "\n",
    "# Lưu ma trận các đặc trưng kết hợp (TF-IDF + BERT)\n",
    "with open('combined_features.pkl', 'wb') as f:\n",
    "    pickle.dump(combined_features, f)\n",
    "\n",
    "# Lưu dataset (dữ liệu phim)\n",
    "with open('movies_data.pkl', 'wb') as f:\n",
    "    pickle.dump(movies_df, f)"
   ]
  }
 ],
 "metadata": {
  "kernelspec": {
   "display_name": "Python 3",
   "language": "python",
   "name": "python3"
  },
  "language_info": {
   "codemirror_mode": {
    "name": "ipython",
    "version": 3
   },
   "file_extension": ".py",
   "mimetype": "text/x-python",
   "name": "python",
   "nbconvert_exporter": "python",
   "pygments_lexer": "ipython3",
   "version": "3.12.3"
  }
 },
 "nbformat": 4,
 "nbformat_minor": 2
}
